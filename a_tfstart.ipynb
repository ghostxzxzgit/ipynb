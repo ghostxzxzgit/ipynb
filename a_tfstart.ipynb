{
  "nbformat": 4,
  "nbformat_minor": 0,
  "metadata": {
    "environment": {
      "name": "tf-gpu.1-15.m47",
      "type": "gcloud",
      "uri": "gcr.io/deeplearning-platform-release/tf-gpu.1-15:m47"
    },
    "kernelspec": {
      "display_name": "Python 3",
      "language": "python",
      "name": "python3"
    },
    "language_info": {
      "codemirror_mode": {
        "name": "ipython",
        "version": 3
      },
      "file_extension": ".py",
      "mimetype": "text/x-python",
      "name": "python",
      "nbconvert_exporter": "python",
      "pygments_lexer": "ipython3",
      "version": "3.7.6"
    },
    "colab": {
      "name": "a_tfstart.ipynb",
      "provenance": []
    }
  },
  "cells": [
    {
      "cell_type": "markdown",
      "metadata": {
        "id": "AMRU6HfgsWAz",
        "colab_type": "text"
      },
      "source": [
        "https://git.grinnan.com/grinnan/Machine-Learning-with-Python/tree/master\n",
        "\n",
        "\n",
        "\n",
        "https://stackoverflow.com/questions/51962001/finding-roots-of-4th-degree-polynomial-using-tensorflow-by-halleys-method\n",
        "\n",
        "https://gist.github.com/mwacc/7b93865a5cf19b19cc0ed7491fad29e3\n",
        "\n"
      ]
    },
    {
      "cell_type": "markdown",
      "metadata": {
        "deletable": true,
        "editable": true,
        "id": "QiRjs5uHrE3O",
        "colab_type": "text"
      },
      "source": [
        "<h1> Getting started with TensorFlow </h1>\n",
        "\n",
        "In this notebook, you play around with the TensorFlow Python API."
      ]
    },
    {
      "cell_type": "code",
      "metadata": {
        "deletable": true,
        "editable": true,
        "jupyter": {
          "outputs_hidden": false
        },
        "id": "XaWiNVcZrE3Q",
        "colab_type": "code",
        "colab": {
          "base_uri": "https://localhost:8080/",
          "height": 34
        },
        "outputId": "204e4f39-23f2-46d4-a0f4-8d9c19111eca"
      },
      "source": [
        "%tensorflow_version 1.x\n",
        "\n",
        "import tensorflow as tf\n",
        "import numpy as np\n",
        "\n",
        "print(tf.__version__)"
      ],
      "execution_count": 2,
      "outputs": [
        {
          "output_type": "stream",
          "text": [
            "1.15.2\n"
          ],
          "name": "stdout"
        }
      ]
    },
    {
      "cell_type": "markdown",
      "metadata": {
        "deletable": true,
        "editable": true,
        "id": "fmGsAQw8rE3d",
        "colab_type": "text"
      },
      "source": [
        "<h2> Adding two tensors </h2>\n",
        "\n",
        "First, let's try doing this using numpy, the Python numeric package. numpy code is immediately evaluated."
      ]
    },
    {
      "cell_type": "code",
      "metadata": {
        "deletable": true,
        "editable": true,
        "jupyter": {
          "outputs_hidden": false
        },
        "id": "DbIxZsFhrE3f",
        "colab_type": "code",
        "colab": {
          "base_uri": "https://localhost:8080/",
          "height": 34
        },
        "outputId": "d4a6bd3c-ad7d-48f4-b1e3-1c294253b42c"
      },
      "source": [
        "a = np.array([5, 3, 8])\n",
        "b = np.array([3, -1, 2])\n",
        "c = np.add(a, b)\n",
        "print(c)"
      ],
      "execution_count": 3,
      "outputs": [
        {
          "output_type": "stream",
          "text": [
            "[ 8  2 10]\n"
          ],
          "name": "stdout"
        }
      ]
    },
    {
      "cell_type": "markdown",
      "metadata": {
        "deletable": true,
        "editable": true,
        "id": "zEJ53IVlrE3m",
        "colab_type": "text"
      },
      "source": [
        "The equivalent code in TensorFlow consists of two steps:\n",
        "<p>\n",
        "<h3> Step 1: Build the graph </h3>"
      ]
    },
    {
      "cell_type": "code",
      "metadata": {
        "deletable": true,
        "editable": true,
        "jupyter": {
          "outputs_hidden": false
        },
        "id": "rAUTdstjrE3n",
        "colab_type": "code",
        "colab": {
          "base_uri": "https://localhost:8080/",
          "height": 34
        },
        "outputId": "91deaead-9c3f-4771-882e-bfa417576d83"
      },
      "source": [
        "a = tf.constant([5, 3, 8])\n",
        "b = tf.constant([3, -1, 2])\n",
        "c = tf.add(a, b)\n",
        "print(c)"
      ],
      "execution_count": 4,
      "outputs": [
        {
          "output_type": "stream",
          "text": [
            "Tensor(\"Add:0\", shape=(3,), dtype=int32)\n"
          ],
          "name": "stdout"
        }
      ]
    },
    {
      "cell_type": "markdown",
      "metadata": {
        "deletable": true,
        "editable": true,
        "id": "FiajQL83rE3u",
        "colab_type": "text"
      },
      "source": [
        "c is an Op (\"Add\") that returns a tensor of shape (3,) and holds int32. The shape is inferred from the computation graph.\n",
        "\n",
        "Try the following in the cell above:\n",
        "<ol>\n",
        "<li> Change the 5 to 5.0, and similarly the other five numbers. What happens when you run this cell? </li>\n",
        "<li> Add an extra number to a, but leave b at the original (3,) shape. What happens when you run this cell? </li>\n",
        "<li> Change the code back to a version that works </li>\n",
        "</ol>\n",
        "\n",
        "<p/>\n",
        "<h3> Step 2: Run the graph"
      ]
    },
    {
      "cell_type": "code",
      "metadata": {
        "deletable": true,
        "editable": true,
        "jupyter": {
          "outputs_hidden": false
        },
        "id": "KQyoTmr3rE3w",
        "colab_type": "code",
        "colab": {
          "base_uri": "https://localhost:8080/",
          "height": 34
        },
        "outputId": "22760e68-145a-41dc-b766-9670e11a012a"
      },
      "source": [
        "with tf.Session() as session:\n",
        "  result = session.run(c)\n",
        "  print(result)"
      ],
      "execution_count": 5,
      "outputs": [
        {
          "output_type": "stream",
          "text": [
            "[ 8  2 10]\n"
          ],
          "name": "stdout"
        }
      ]
    },
    {
      "cell_type": "markdown",
      "metadata": {
        "deletable": true,
        "editable": true,
        "id": "xR6rWamZrE32",
        "colab_type": "text"
      },
      "source": [
        "<h2> Using a feed_dict </h2>\n",
        "\n",
        "Same graph, but without hardcoding inputs at build stage"
      ]
    },
    {
      "cell_type": "code",
      "metadata": {
        "deletable": true,
        "editable": true,
        "jupyter": {
          "outputs_hidden": false
        },
        "id": "KlPnE2RorE33",
        "colab_type": "code",
        "colab": {
          "base_uri": "https://localhost:8080/",
          "height": 34
        },
        "outputId": "f6a16985-e41c-4f5a-ff7c-3bdd62261a3b"
      },
      "source": [
        "a = tf.placeholder(dtype=tf.int32, shape=(None,))  # batchsize x scalar\n",
        "b = tf.placeholder(dtype=tf.int32, shape=(None,))\n",
        "c = tf.add(a, b)\n",
        "with tf.Session() as sess:\n",
        "  result = sess.run(c, feed_dict={\n",
        "      a: [3, 4, 5],\n",
        "      b: [-1, 2, 3]\n",
        "    })\n",
        "  print(result)"
      ],
      "execution_count": 6,
      "outputs": [
        {
          "output_type": "stream",
          "text": [
            "[2 6 8]\n"
          ],
          "name": "stdout"
        }
      ]
    },
    {
      "cell_type": "markdown",
      "metadata": {
        "deletable": true,
        "editable": true,
        "id": "vQSveBIWrE3-",
        "colab_type": "text"
      },
      "source": [
        "<h2> Heron's Formula in TensorFlow </h2>\n",
        "\n",
        "The area of triangle whose three side lengths are $(a, b, c)$ is $\\sqrt{s(s-a)(s-b)(s-c)}$ where $s=\\frac{a+b+c}{2}$ \n",
        "\n",
        "Look up the available operations at: https://www.tensorflow.org/api_docs/python/tf. \n",
        "\n",
        "You'll need the `tf.sqrt()` operation. Remember `tf.add()`, `tf.subtract()` and `tf.multiply()` are overloaded with the +,- and * operators respectively.\n",
        "\n",
        "You should get: 6.278497"
      ]
    },
    {
      "cell_type": "code",
      "metadata": {
        "jupyter": {
          "outputs_hidden": false
        },
        "id": "XMKO--ovrE3_",
        "colab_type": "code",
        "colab": {
          "base_uri": "https://localhost:8080/",
          "height": 34
        },
        "outputId": "63131d80-a6ee-4433-f5a9-11f6d565ec5b"
      },
      "source": [
        "def compute_area(sides):\n",
        "    a = sides[0]\n",
        "    b = sides[1]\n",
        "    c = sides[2]\n",
        "    s = (a+b+c)/2\n",
        "    \n",
        "    areasq = s*(s-a)*(s-b)*(s-c)\n",
        "    area = tf.sqrt(areasq)\n",
        "  #TODO: Write TensorFlow code to compute area of a triangle\n",
        "  #  given its side lengths\n",
        "  \n",
        "    return area\n",
        "\n",
        "with tf.Session() as sess:\n",
        "  area = compute_area(tf.constant([5.0, 3.0, 7.1]))\n",
        "  result = sess.run(area)\n",
        "  print(result)"
      ],
      "execution_count": 7,
      "outputs": [
        {
          "output_type": "stream",
          "text": [
            "6.278497\n"
          ],
          "name": "stdout"
        }
      ]
    },
    {
      "cell_type": "markdown",
      "metadata": {
        "id": "uvR2rGkwrE4H",
        "colab_type": "text"
      },
      "source": [
        "Extend your code to be able to compute the area for several triangles at once.\n",
        "\n",
        "You should get: [6.278497 4.709139]"
      ]
    },
    {
      "cell_type": "code",
      "metadata": {
        "deletable": true,
        "editable": true,
        "jupyter": {
          "outputs_hidden": false
        },
        "id": "7tNOd0fJrE4J",
        "colab_type": "code",
        "colab": {
          "base_uri": "https://localhost:8080/",
          "height": 34
        },
        "outputId": "a7bfc921-1dde-45e1-a47a-1eceb8260c78"
      },
      "source": [
        "def compute_area(sides):\n",
        "    a = sides[:,0]\n",
        "    b = sides[:,1]\n",
        "    c = sides[:,2]\n",
        "    s = (a+b+c)/2\n",
        "    \n",
        "    areasq = s*(s-a)*(s-b)*(s-c)\n",
        "    area = tf.sqrt(areasq)\n",
        "  #TODO: Write TensorFlow code to compute area of a \n",
        "  #  SET of triangles given by their side lengths\n",
        "    return area\n",
        "\n",
        "with tf.Session() as sess:\n",
        "  # pass in two triangles\n",
        "  area = compute_area(tf.constant([\n",
        "      [5.0, 3.0, 7.1],\n",
        "      [2.3, 4.1, 4.8]\n",
        "    ]))\n",
        "  result = sess.run(area)\n",
        "  print(result)"
      ],
      "execution_count": 8,
      "outputs": [
        {
          "output_type": "stream",
          "text": [
            "[6.278497 4.709139]\n"
          ],
          "name": "stdout"
        }
      ]
    },
    {
      "cell_type": "markdown",
      "metadata": {
        "deletable": true,
        "editable": true,
        "id": "TKhFNK51rE4N",
        "colab_type": "text"
      },
      "source": [
        "<h2> Placeholder and feed_dict </h2>\n",
        "\n",
        "More common is to define the input to a program as a placeholder and then to feed in the inputs. The difference between the code below and the code above is whether the \"area\" graph is coded up with the input values or whether the \"area\" graph is coded up with a placeholder through which inputs will be passed in at run-time."
      ]
    },
    {
      "cell_type": "code",
      "metadata": {
        "deletable": true,
        "editable": true,
        "jupyter": {
          "outputs_hidden": false
        },
        "id": "34iHsORzrE4O",
        "colab_type": "code",
        "colab": {
          "base_uri": "https://localhost:8080/",
          "height": 34
        },
        "outputId": "cf0958c4-c19e-4b15-de2e-72e6913c6087"
      },
      "source": [
        "with tf.Session() as sess:\n",
        "  #TODO: Rather than feeding the side values as a constant, \n",
        "  #  use a placeholder and fill it using feed_dict instead.\n",
        "  sides = tf.placeholder(tf.float32, shape=(None, 3))\n",
        "  area = compute_area(sides)\n",
        "  result = sess.run(area, feed_dict = {\n",
        "      sides :[\n",
        "              [5.0, 3.0, 7.1],\n",
        "              [2.3, 4.1, 4.8]\n",
        "      ]})\n",
        "  print(result)"
      ],
      "execution_count": 9,
      "outputs": [
        {
          "output_type": "stream",
          "text": [
            "[6.278497 4.709139]\n"
          ],
          "name": "stdout"
        }
      ]
    },
    {
      "cell_type": "markdown",
      "metadata": {
        "deletable": true,
        "editable": true,
        "id": "PsjMeC-MrE4T",
        "colab_type": "text"
      },
      "source": [
        "## tf.eager\n",
        "\n",
        "tf.eager allows you to avoid the build-then-run stages. However, most production code will follow the lazy evaluation paradigm because the lazy evaluation paradigm is what allows for multi-device support and distribution. \n",
        "<p>\n",
        "One thing you could do is to develop using tf.eager and then comment out the eager execution and add in the session management code.\n",
        "\n",
        "<b> You will need to restart your session to try this out.</b>"
      ]
    },
    {
      "cell_type": "code",
      "metadata": {
        "deletable": true,
        "editable": true,
        "jupyter": {
          "outputs_hidden": false
        },
        "id": "r3PzBiHqrE4U",
        "colab_type": "code",
        "colab": {
          "base_uri": "https://localhost:8080/",
          "height": 387
        },
        "outputId": "f095b8c2-e7d2-4cfb-a79d-be79dc4fc7b4"
      },
      "source": [
        "import tensorflow as tf\n",
        "\n",
        "tf.enable_eager_execution()\n",
        "\n",
        "#TODO: Using your non-placeholder solution, \n",
        "#  try it now using tf.eager by removing the session\n",
        "def compute_area(sides):\n",
        "    a = sides[:,0]\n",
        "    b = sides[:,1]\n",
        "    c = sides[:,2]\n",
        "    s = (a+b+c)/2\n",
        "    \n",
        "    areasq = s*(s-a)*(s-b)*(s-c)\n",
        "    area = tf.sqrt(areasq)\n",
        "  #TODO: Write TensorFlow code to compute area of a \n",
        "  #  SET of triangles given by their side lengths\n",
        "    return area\n",
        "\n",
        "area = compute_area(tf.constant([\n",
        "      [5.0, 3.0, 7.1],\n",
        "      [2.3, 4.1, 4.8]\n",
        "    ]))\n",
        "print(area)\n"
      ],
      "execution_count": 10,
      "outputs": [
        {
          "output_type": "error",
          "ename": "ValueError",
          "evalue": "ignored",
          "traceback": [
            "\u001b[0;31m---------------------------------------------------------------------------\u001b[0m",
            "\u001b[0;31mValueError\u001b[0m                                Traceback (most recent call last)",
            "\u001b[0;32m<ipython-input-10-6d827fc45cfd>\u001b[0m in \u001b[0;36m<module>\u001b[0;34m()\u001b[0m\n\u001b[1;32m      1\u001b[0m \u001b[0;32mimport\u001b[0m \u001b[0mtensorflow\u001b[0m \u001b[0;32mas\u001b[0m \u001b[0mtf\u001b[0m\u001b[0;34m\u001b[0m\u001b[0;34m\u001b[0m\u001b[0m\n\u001b[1;32m      2\u001b[0m \u001b[0;34m\u001b[0m\u001b[0m\n\u001b[0;32m----> 3\u001b[0;31m \u001b[0mtf\u001b[0m\u001b[0;34m.\u001b[0m\u001b[0menable_eager_execution\u001b[0m\u001b[0;34m(\u001b[0m\u001b[0;34m)\u001b[0m\u001b[0;34m\u001b[0m\u001b[0;34m\u001b[0m\u001b[0m\n\u001b[0m\u001b[1;32m      4\u001b[0m \u001b[0;34m\u001b[0m\u001b[0m\n\u001b[1;32m      5\u001b[0m \u001b[0;31m#TODO: Using your non-placeholder solution,\u001b[0m\u001b[0;34m\u001b[0m\u001b[0;34m\u001b[0m\u001b[0;34m\u001b[0m\u001b[0m\n",
            "\u001b[0;32m/tensorflow-1.15.2/python3.6/tensorflow_core/python/framework/ops.py\u001b[0m in \u001b[0;36menable_eager_execution\u001b[0;34m(config, device_policy, execution_mode)\u001b[0m\n\u001b[1;32m   5717\u001b[0m         \u001b[0mdevice_policy\u001b[0m\u001b[0;34m=\u001b[0m\u001b[0mdevice_policy\u001b[0m\u001b[0;34m,\u001b[0m\u001b[0;34m\u001b[0m\u001b[0;34m\u001b[0m\u001b[0m\n\u001b[1;32m   5718\u001b[0m         \u001b[0mexecution_mode\u001b[0m\u001b[0;34m=\u001b[0m\u001b[0mexecution_mode\u001b[0m\u001b[0;34m,\u001b[0m\u001b[0;34m\u001b[0m\u001b[0;34m\u001b[0m\u001b[0m\n\u001b[0;32m-> 5719\u001b[0;31m         server_def=None)\n\u001b[0m\u001b[1;32m   5720\u001b[0m \u001b[0;34m\u001b[0m\u001b[0m\n\u001b[1;32m   5721\u001b[0m \u001b[0;34m\u001b[0m\u001b[0m\n",
            "\u001b[0;32m/tensorflow-1.15.2/python3.6/tensorflow_core/python/framework/ops.py\u001b[0m in \u001b[0;36menable_eager_execution_internal\u001b[0;34m(config, device_policy, execution_mode, server_def)\u001b[0m\n\u001b[1;32m   5776\u001b[0m     \u001b[0;32mif\u001b[0m \u001b[0mgraph_mode_has_been_used\u001b[0m\u001b[0;34m:\u001b[0m\u001b[0;34m\u001b[0m\u001b[0;34m\u001b[0m\u001b[0m\n\u001b[1;32m   5777\u001b[0m       raise ValueError(\n\u001b[0;32m-> 5778\u001b[0;31m           \"tf.enable_eager_execution must be called at program startup.\")\n\u001b[0m\u001b[1;32m   5779\u001b[0m   \u001b[0mcontext\u001b[0m\u001b[0;34m.\u001b[0m\u001b[0mdefault_execution_mode\u001b[0m \u001b[0;34m=\u001b[0m \u001b[0mcontext\u001b[0m\u001b[0;34m.\u001b[0m\u001b[0mEAGER_MODE\u001b[0m\u001b[0;34m\u001b[0m\u001b[0;34m\u001b[0m\u001b[0m\n\u001b[1;32m   5780\u001b[0m   \u001b[0;31m# pylint: disable=protected-access\u001b[0m\u001b[0;34m\u001b[0m\u001b[0;34m\u001b[0m\u001b[0;34m\u001b[0m\u001b[0m\n",
            "\u001b[0;31mValueError\u001b[0m: tf.enable_eager_execution must be called at program startup."
          ]
        }
      ]
    },
    {
      "cell_type": "markdown",
      "metadata": {
        "deletable": true,
        "editable": true,
        "id": "lHAZctJbrE4Z",
        "colab_type": "text"
      },
      "source": [
        "## Challenge Exercise\n",
        "\n",
        "Use TensorFlow to find the roots of a fourth-degree polynomial using [Halley's Method](https://en.wikipedia.org/wiki/Halley%27s_method).  The five coefficients (i.e. $a_0$ to $a_4$) of \n",
        "<p>\n",
        "$f(x) = a_0 + a_1 x + a_2 x^2 + a_3 x^3 + a_4 x^4$\n",
        "<p>\n",
        "will be fed into the program, as will the initial guess $x_0$. Your program will start from that initial guess and then iterate one step using the formula:\n",
        "<img src=\"https://wikimedia.org/api/rest_v1/media/math/render/svg/142614c0378a1d61cb623c1352bf85b6b7bc4397\" />\n",
        "<p>\n",
        "If you got the above easily, try iterating indefinitely until the change between $x_n$ and $x_{n+1}$ is less than some specified tolerance. Hint: Use [tf.while_loop](https://www.tensorflow.org/api_docs/python/tf/while_loop)"
      ]
    },
    {
      "cell_type": "markdown",
      "metadata": {
        "deletable": true,
        "editable": true,
        "id": "VAE80ZKOrE4a",
        "colab_type": "text"
      },
      "source": [
        "Copyright 2017 Google Inc. Licensed under the Apache License, Version 2.0 (the \"License\"); you may not use this file except in compliance with the License. You may obtain a copy of the License at http://www.apache.org/licenses/LICENSE-2.0 Unless required by applicable law or agreed to in writing, software distributed under the License is distributed on an \"AS IS\" BASIS, WITHOUT WARRANTIES OR CONDITIONS OF ANY KIND, either express or implied. See the License for the specific language governing permissions and limitations under the License"
      ]
    },
    {
      "cell_type": "code",
      "metadata": {
        "id": "FkeQnqUqrE4c",
        "colab_type": "code",
        "colab": {}
      },
      "source": [
        "def fx(coeffs,x):\n",
        "    a0=coeffs[0]\n",
        "    a1=coeffs[1]\n",
        "    a2=coeffs[2]\n",
        "    a3=coeffs[3]\n",
        "    a4=coeffs[4]\n",
        "    result=(a0  +tf.multiply(a1,tf.math.pow(x,1))\n",
        "                +tf.multiply(a2,tf.math.pow(x,2))\n",
        "                +tf.multiply(a3,tf.math.pow(x,3))\n",
        "                +tf.multiply(a4,tf.math.pow(x,4))\n",
        "             )\n",
        "    return result"
      ],
      "execution_count": 0,
      "outputs": []
    },
    {
      "cell_type": "code",
      "metadata": {
        "id": "PK-MEVfHrE4i",
        "colab_type": "code",
        "colab": {}
      },
      "source": [
        "def fxd(coeffs,x):\n",
        "    a0=coeffs[0]\n",
        "    a1=coeffs[1]\n",
        "    a2=coeffs[2]\n",
        "    a3=coeffs[3]\n",
        "    a4=coeffs[4]\n",
        "    \n",
        "    result=(a1  +2.0*tf.multiply(a2,tf.math.pow(x,1))\n",
        "                +3.0*tf.multiply(a3,tf.math.pow(x,2))\n",
        "                +4.0*tf.multiply(a4,tf.math.pow(x,3))\n",
        "             )\n",
        "    return result"
      ],
      "execution_count": 0,
      "outputs": []
    },
    {
      "cell_type": "code",
      "metadata": {
        "id": "Fgioh2bPrE4q",
        "colab_type": "code",
        "colab": {}
      },
      "source": [
        "def fxdd(coeffs,x):\n",
        "    a0=coeffs[0]\n",
        "    a1=coeffs[1]\n",
        "    a2=coeffs[2]\n",
        "    a3=coeffs[3]\n",
        "    a4=coeffs[4]\n",
        "    \n",
        "    result=(2.0*a2\n",
        "                +6.0*tf.multiply(a3,tf.math.pow(x,1))\n",
        "                +12.0*tf.multiply(a4,tf.math.pow(x,2))\n",
        "             )\n",
        "    return result"
      ],
      "execution_count": 0,
      "outputs": []
    },
    {
      "cell_type": "markdown",
      "metadata": {
        "id": "z8suSigHrE4x",
        "colab_type": "text"
      },
      "source": [
        "hx is the xn+1 here"
      ]
    },
    {
      "cell_type": "code",
      "metadata": {
        "id": "KL16BwllrE4y",
        "colab_type": "code",
        "colab": {}
      },
      "source": [
        "def hx(coeffs,x):\n",
        "    result=x-(\n",
        "                (2.0*fx(coeffs,x)*fxd(coeffs,x))\n",
        "                /\n",
        "                (\n",
        "                    2.0*fxd(coeffs,x)*fxd(coeffs,x)\n",
        "                    -fxd(coeffs,x)*fxdd(coeffs,x)\n",
        "                )\n",
        "            )\n",
        "    return result\n"
      ],
      "execution_count": 0,
      "outputs": []
    },
    {
      "cell_type": "code",
      "metadata": {
        "id": "ulK_GSZqrE44",
        "colab_type": "code",
        "colab": {}
      },
      "source": [
        ""
      ],
      "execution_count": 0,
      "outputs": []
    }
  ]
}